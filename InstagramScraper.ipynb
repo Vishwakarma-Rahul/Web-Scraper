{
 "cells": [
  {
   "cell_type": "code",
   "execution_count": 7,
   "metadata": {},
   "outputs": [
    {
     "name": "stdout",
     "output_type": "stream",
     "text": [
      "User: Rahul Vishwakarma (@kuchkhaasalfaaz)\n",
      "Followers: 3,876\n",
      "Following: 430\n"
     ]
    }
   ],
   "source": [
    "import requests\n",
    "from bs4 import BeautifulSoup\n",
    "\n",
    "html = requests.get('https://www.instagram.com/kuchkhaasalfaaz/') # input URL here\n",
    "soup = BeautifulSoup(html.text, 'lxml')\n",
    "\n",
    "data = soup.find_all('meta', attrs={'property':'og:description'})\n",
    "text = data[0].get('content').split()\n",
    "\n",
    "user = '%s %s %s' % (text[-3], text[-2], text[-1])\n",
    "followers = text[0]\n",
    "following = text[2]\n",
    "\n",
    "print('User:', user)\n",
    "print('Followers:', followers)\n",
    "print('Following:', following)"
   ]
  },
  {
   "cell_type": "code",
   "execution_count": 9,
   "metadata": {},
   "outputs": [],
   "source": [
    "import requests\n",
    "from bs4 import BeautifulSoup\n",
    "\n",
    "html = requests.get('https://www.instagram.com/kuchkhaasalfaaz/followers/?hl=en') # input URL here\n",
    "soup = BeautifulSoup(html.text, 'lxml')\n",
    "\n",
    "#print(soup.prettify())"
   ]
  },
  {
   "cell_type": "code",
   "execution_count": 11,
   "metadata": {},
   "outputs": [
    {
     "name": "stdout",
     "output_type": "stream",
     "text": [
      "[]\n"
     ]
    }
   ],
   "source": [
    "elements = soup.find_all(\"a\", class_=\"_2g7d5 notranslate _o5iw8\")\n",
    "print(elements)"
   ]
  },
  {
   "cell_type": "code",
   "execution_count": null,
   "metadata": {},
   "outputs": [],
   "source": []
  }
 ],
 "metadata": {
  "kernelspec": {
   "display_name": "Python 3",
   "language": "python",
   "name": "python3"
  },
  "language_info": {
   "codemirror_mode": {
    "name": "ipython",
    "version": 3
   },
   "file_extension": ".py",
   "mimetype": "text/x-python",
   "name": "python",
   "nbconvert_exporter": "python",
   "pygments_lexer": "ipython3",
   "version": "3.6.4"
  }
 },
 "nbformat": 4,
 "nbformat_minor": 2
}
